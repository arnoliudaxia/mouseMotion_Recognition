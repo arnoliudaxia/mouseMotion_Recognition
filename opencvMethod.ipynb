{
 "cells": [
  {
   "cell_type": "code",
   "execution_count": 19,
   "outputs": [],
   "source": [
    "import numpy as np\n",
    "\n",
    "\n",
    "magnitude_maximum_history=[]\n",
    "OpticalFlowFeatureMapHueHistory=[]\n",
    "prev_gray=None\n",
    "frame_height, frame_width = None,None\n",
    "\n",
    "def cleanForOpticalFlow(contiuFlag=False):\n",
    "    global magnitude_maximum_history,OpticalFlowFeatureMapHueHistory,prev_gray,frame_height, frame_width\n",
    "    magnitude_maximum_history=[]\n",
    "    OpticalFlowFeatureMapHueHistory=[]\n",
    "    if contiuFlag:\n",
    "        prev_gray=None\n",
    "        frame_height, frame_width = None,None\n",
    "\n",
    "def OpticalFlowForClip(img,guiDebug=True,plotNum=True,frameByframe=False,lowPass=-1):\n",
    "    global magnitude_maximum_history,OpticalFlowFeatureMapHueHistory,prev_gray,frame_height, frame_width\n",
    "\n",
    "    if guiDebug:\n",
    "        cv2.namedWindow('Optical Flow', cv2.WINDOW_AUTOSIZE)\n",
    "\n",
    "    if prev_gray is None:\n",
    "        frame_height, frame_width = img.shape[:2] # 获取视频分辨率\n",
    "        prev_gray = cv2.cvtColor(img, cv2.COLOR_BGR2GRAY) # 转换为灰度图像\n",
    "\n",
    "    else:\n",
    "        frame=img\n",
    "    # for frame in imgs[1:]:\n",
    "        # 转换为灰度图\n",
    "        gray = cv2.cvtColor(frame, cv2.COLOR_BGR2GRAY)\n",
    "        # 计算光流\n",
    "        flow = cv2.calcOpticalFlowFarneback(\n",
    "            prev=prev_gray,  # 上一帧的灰度图像\n",
    "            next=gray,  # 当前帧的灰度图像\n",
    "            flow=None,  # 初始化光流矩阵，这里未使用，故为None\n",
    "            pyr_scale=0.5,  # 金字塔缩放比例，越小意味着构建更多层金字塔，提高检测的精确度和鲁棒性\n",
    "            levels=3,  # 金字塔层数，表示多尺度（层次）的处理\n",
    "            winsize=15,  # 平均窗口大小，越大能捕捉到更高速的运动，但也平滑更多\n",
    "            iterations=3,  # 每层金字塔迭代次数，迭代次数越多，计算越精确但也越慢\n",
    "            poly_n=5,  # 每个像素邻域的大小，用于多项式展开，一般为5或7\n",
    "            poly_sigma=1.2,  # 高斯标准差，用于平滑导数，一般与poly_n一起使用\n",
    "            flags=0  # 操作标志，如设置为cv2.OPTFLOW_USE_INITIAL_FLOW则使用flow输入作为初始流估计\n",
    "        )\n",
    "        # 计算光流的幅度和角度\n",
    "        magnitude, angle = cv2.cartToPolar(flow[..., 0], flow[..., 1])\n",
    "        magnitude_maximum_history.append(np.max(magnitude))\n",
    "\n",
    "        magnitude_scaled=cv2.normalize(magnitude, None, 0, 1, cv2.NORM_MINMAX)\n",
    "        cv2.imshow(\"magnitude field\",magnitude_scaled)\n",
    "\n",
    "        # region 彩色featuremap\n",
    "        # 生成一个全黑的特征图\n",
    "        feature_map = np.zeros((magnitude.shape[0], magnitude.shape[1], 3), dtype=np.uint8)\n",
    "        # 将 magnitude 映射到亮度\n",
    "        feature_map[..., 2] = cv2.normalize(magnitude, None, 0, 255, cv2.NORM_MINMAX)\n",
    "        # 将 angle 映射到色相\n",
    "        angle_in_degrees = ((angle + np.pi) * 180 / np.pi) % 180\n",
    "        feature_map[..., 0] = angle_in_degrees.astype(np.uint8)\n",
    "        # 设置饱和度为最大值\n",
    "        feature_map[..., 1] = 255\n",
    "        # 将颜色空间转换为BGR到HSV\n",
    "        feature_map = cv2.cvtColor(feature_map, cv2.COLOR_HSV2BGR)\n",
    "        OpticalFlowFeatureMapHueHistory.append(feature_map)\n",
    "        # 显示特征图\n",
    "        cv2.imshow('Feature Map', feature_map)\n",
    "        # endregion\n",
    "\n",
    "        if guiDebug:\n",
    "\n",
    "            # 选择每隔10个像素\n",
    "            step = 10\n",
    "            y, x = np.mgrid[step / 2:frame_height:step, step / 2:frame_width:step].reshape(2, -1).astype(int)\n",
    "            fx, fy = flow[y, x].T\n",
    "            # 创建线的起点和终点\n",
    "            lines = np.vstack([x, y, x + fx, y + fy]).T.reshape(-1, 2, 2)\n",
    "            lines = np.int32(lines + 1.5)\n",
    "\n",
    "            # 绘制线\n",
    "            vis = cv2.cvtColor(gray, cv2.COLOR_GRAY2BGR)\n",
    "            cv2.polylines(vis, lines, isClosed=False, color=(0, 255, 0))\n",
    "            # 为每条线绘制点\n",
    "            for (x1, y1), (_x2, _y2) in lines:\n",
    "                cv2.circle(vis, (x1, y1), 1, (0, 255, 0), -1)\n",
    "\n",
    "            ## 画向量场的大小\n",
    "\n",
    "\n",
    "            # 选择每隔40个像素\n",
    "            if plotNum:\n",
    "                for y in range(0, frame_height,step):\n",
    "                    for x in range(0, frame_width,step):\n",
    "                        mag = magnitude[y, x]\n",
    "                        # 仅绘制幅度大于1的矢量大小，减少图像的拥挤\n",
    "                        if mag > 1:\n",
    "                            # text = f\"{mag:.1f}\"\n",
    "                            text = f\"{int(mag)}\"\n",
    "                            cv2.putText(vis, text, (x, y), cv2.FONT_HERSHEY_SIMPLEX, 0.3, (255, 0, 0), 1)\n",
    "                            # print(f\"({x, y} {text})\")\n",
    "\n",
    "            # nowmag=magnitude_maximum_history[-1]\n",
    "            # cv2.putText(vis,str(nowmag) , (20, 20), cv2.FONT_HERSHEY_SIMPLEX, 1, (255, 0, 0) if nowmag<10 else (0,0,255), 1)\n",
    "            nowmag=np.sum(magnitude)\n",
    "            cv2.putText(vis,str(nowmag) , (200, 200), cv2.FONT_HERSHEY_SIMPLEX, 1, (255, 0, 0) if nowmag<10 else (0,0,255), 1)\n",
    "\n",
    "            # 显示结果\n",
    "            cv2.imshow('Optical Flow', vis)\n",
    "\n",
    "            # 按'q'键退出循环\n",
    "            if cv2.waitKey(-1 if frameByframe else 1) & 0xFF == ord('q'):\n",
    "                cv2.destroyAllWindows()\n",
    "\n",
    "\n",
    "        # 更新前一帧的图像和灰度图\n",
    "        prev_gray = gray\n",
    "\n",
    "    # if guiDebug:\n",
    "    #     cv2.destroyAllWindows()\n",
    "\n",
    "    # return {\n",
    "    #     \"magnitude_maximum_history\": magnitude_maximum_history,\n",
    "    #     \"OpticalFlowFeatureMapHueHistory\":OpticalFlowFeatureMapHueHistory\n",
    "    # }"
   ],
   "metadata": {
    "collapsed": false,
    "ExecuteTime": {
     "end_time": "2024-03-28T18:38:15.980502500Z",
     "start_time": "2024-03-28T18:38:15.967990Z"
    }
   }
  },
  {
   "cell_type": "code",
   "execution_count": 2,
   "outputs": [],
   "source": [
    "import yaml\n",
    "\n",
    "# 从YAML文件中加载裁剪信息\n",
    "with open('crop_info.yaml', 'r') as yaml_file:\n",
    "    crop_info = yaml.safe_load(yaml_file)\n"
   ],
   "metadata": {
    "collapsed": false,
    "ExecuteTime": {
     "end_time": "2024-03-28T18:16:01.764338600Z",
     "start_time": "2024-03-28T18:16:01.726273200Z"
    }
   }
  },
  {
   "cell_type": "code",
   "execution_count": 16,
   "outputs": [],
   "source": [
    "#读取一个文件夹下内的所有照片\n",
    "import cv2\n",
    "import os\n",
    "\n",
    "# 定义要读取的文件夹路径\n",
    "folder_path = r'data/1'\n",
    "\n",
    "# 获取文件夹下所有文件的文件名\n",
    "file_names = os.listdir(folder_path)\n",
    "\n",
    "imgs2process=[]\n",
    "\n",
    "# 遍历文件夹下的每个文件\n",
    "for file_name in file_names:\n",
    "    # 构建文件的完整路径\n",
    "    file_path = os.path.join(folder_path, file_name)\n",
    "\n",
    "    # 判断文件是否是图片文件（这里简单地通过文件扩展名判断\n",
    "    if file_name.endswith(('.jpg', '.jpeg', '.png', '.gif')):\n",
    "        imgs2process.append(file_path)\n",
    "\n",
    "\n",
    "imgsData=[]\n",
    "for imgPath in imgs2process:\n",
    "    imgsData.append(cv2.imread(imgPath)[crop_info['y_start']:crop_info['y_end'], crop_info['x_start']:crop_info['x_end']])\n",
    "\n",
    "for img in imgsData:\n",
    "    OpticalFlowForClip(img,frameByframe=True,plotNum=False)\n",
    "\n",
    "cv2.destroyAllWindows()"
   ],
   "metadata": {
    "collapsed": false,
    "ExecuteTime": {
     "end_time": "2024-03-28T18:31:00.590159300Z",
     "start_time": "2024-03-28T18:30:52.801376900Z"
    }
   }
  },
  {
   "cell_type": "code",
   "execution_count": 17,
   "outputs": [],
   "source": [],
   "metadata": {
    "collapsed": false,
    "ExecuteTime": {
     "end_time": "2024-03-28T18:32:10.003567900Z",
     "start_time": "2024-03-28T18:32:09.929961800Z"
    }
   }
  },
  {
   "cell_type": "code",
   "execution_count": 23,
   "outputs": [
    {
     "name": "stderr",
     "output_type": "stream",
     "text": [
      "100%|██████████| 35989/35989 [1:01:05<00:00,  9.82it/s]\n"
     ]
    }
   ],
   "source": [
    "from tqdm import tqdm\n",
    "\n",
    "video_path=r\"Z:\\Motion_Recognition\\Head Twitch\\largeSlice\\output_000.mp4\"\n",
    "\n",
    "\n",
    "imgsData=[]\n",
    "# 打开视频文件\n",
    "cap = cv2.VideoCapture(video_path)\n",
    "# 获取视频的总帧数\n",
    "total_frames = int(cap.get(cv2.CAP_PROP_FRAME_COUNT))\n",
    "# while True:\n",
    "for step in tqdm(range(total_frames)):\n",
    "    ret, prev_frame = cap.read()\n",
    "    if not ret:\n",
    "        break\n",
    "\n",
    "    img=prev_frame[crop_info['y_start']:crop_info['y_end'], crop_info['x_start']:crop_info['x_end']]\n",
    "\n",
    "    OpticalFlowForClip(img,frameByframe=False)\n",
    "    cv2.imwrite(f\"data/OpticalFlowFeatureMap/{step}.png\",OpticalFlowFeatureMapHueHistory[-1])\n",
    "    OpticalFlowFeatureMapHueHistory=[]\n",
    "    magnitude_maximum_history=[]\n",
    "\n",
    "    # if step%10==0:\n",
    "    #     for OpticalFlowFeatureMap in OpticalFlowFeatureMapHueHistory:\n",
    "    #         cv2.imwrite(f\"data/OpticalFlowFeatureMap/{step}.png\",OpticalFlowFeatureMap)\n",
    "    #\n",
    "    #     cleanForOpticalFlow(contiuFlag=True)\n",
    "\n"
   ],
   "metadata": {
    "collapsed": false,
    "ExecuteTime": {
     "end_time": "2024-03-28T19:47:11.828978Z",
     "start_time": "2024-03-28T18:46:06.077797500Z"
    }
   }
  },
  {
   "cell_type": "code",
   "execution_count": 11,
   "outputs": [],
   "source": [
    "del imgsData"
   ],
   "metadata": {
    "collapsed": false,
    "ExecuteTime": {
     "end_time": "2024-03-28T18:22:24.926443100Z",
     "start_time": "2024-03-28T18:22:24.926443100Z"
    }
   }
  },
  {
   "cell_type": "code",
   "execution_count": 24,
   "outputs": [],
   "source": [
    "\n",
    "cv2.destroyAllWindows()"
   ],
   "metadata": {
    "collapsed": false,
    "ExecuteTime": {
     "end_time": "2024-03-29T04:01:20.023478600Z",
     "start_time": "2024-03-29T04:01:19.295167500Z"
    }
   }
  },
  {
   "cell_type": "code",
   "execution_count": 75,
   "outputs": [
    {
     "name": "stdout",
     "output_type": "stream",
     "text": [
      "从大到小排列的索引: [(86, 18.364204), (89, 18.03031), (88, 16.813759), (87, 15.731115), (94, 14.637705), (90, 12.583774), (92, 12.494666), (91, 11.457912), (59, 11.365786), (85, 10.594591), (66, 10.157406), (73, 9.793003), (74, 9.500913), (58, 9.370901), (84, 8.814832), (93, 8.281558), (38, 7.0878386), (75, 7.085448), (67, 7.061876), (68, 7.022904), (32, 6.492978), (96, 6.366578), (60, 6.283898), (105, 6.1720543), (64, 6.1083446), (30, 6.0496445), (33, 5.8713126), (31, 5.793869), (40, 5.7752466), (0, 5.7042713), (71, 5.691296), (77, 5.5655565), (116, 5.5250587), (126, 5.3674726), (29, 5.3442388), (65, 5.331758), (70, 5.258166), (2, 5.2549467), (123, 5.2481394), (83, 5.244583), (61, 5.2110534), (79, 5.155571), (54, 5.124194), (39, 4.988542), (34, 4.9790974), (1, 4.9214525), (107, 4.8902593), (35, 4.800258), (76, 4.745479), (112, 4.7073054), (69, 4.6913037), (8, 4.623235), (117, 4.5903287), (128, 4.5267286), (57, 4.4213266), (78, 4.39845), (62, 4.3114433), (80, 4.2783093), (111, 4.2106786), (56, 4.2050495), (43, 4.107536), (36, 4.1020775), (27, 4.0987463), (28, 4.054781), (49, 3.9991715), (82, 3.8590045), (21, 3.7956567), (129, 3.7615273), (131, 3.7608943), (41, 3.750847), (95, 3.7492635), (115, 3.7406263), (108, 3.710868), (42, 3.69183), (109, 3.6583984), (55, 3.6544907), (122, 3.638143), (53, 3.5840294), (113, 3.5732152), (72, 3.5180373), (63, 3.4847524), (52, 3.4533935), (45, 3.4479008), (9, 3.4445183), (124, 3.4414563), (26, 3.436263), (81, 3.4216778), (46, 3.400893), (48, 3.362527), (110, 3.3224905), (37, 3.2890184), (127, 3.2235842), (51, 3.1764286), (99, 3.124937), (100, 3.088688), (47, 3.080799), (125, 2.9558794), (104, 2.9155595), (4, 2.8770323), (101, 2.810127), (97, 2.673446), (102, 2.6538777), (118, 2.5802722), (7, 2.534136), (130, 2.5013564), (98, 2.4916754), (50, 2.4459076), (121, 2.3682318), (20, 2.3137927), (103, 2.2850065), (114, 2.2490385), (15, 2.2272387), (22, 2.2232335), (44, 2.2189722), (3, 2.034771), (106, 2.010274), (24, 1.9786083), (119, 1.74641), (12, 1.7132031), (16, 1.6749759), (5, 1.5412881), (14, 1.507342), (11, 1.475585), (23, 1.3810534), (13, 1.2492058), (25, 1.2434616), (18, 1.2256647), (19, 1.2039415), (120, 1.2009915), (10, 1.1663017), (6, 1.0613967), (17, 1.0282598)]\n"
     ]
    }
   ],
   "source": [
    "threholdForMMax=15.0  # 检测阈值\n",
    "\n",
    "# 使用enumerate函数获取列表元素和索引，并根据元素的值进行排序\n",
    "sorted_indices = sorted(enumerate(OpticalFlowResult[\"magnitude_maximum_history\"]), key=lambda x: x[1], reverse=True) # index saves at [0] value at [1]\n",
    "\n",
    "indices_list=[]\n",
    "\n",
    "for i,v in sorted_indices:\n",
    "    if v>threholdForMMax:\n",
    "        indices_list.append(i)\n",
    "    else:\n",
    "        break"
   ],
   "metadata": {
    "collapsed": false,
    "ExecuteTime": {
     "end_time": "2024-03-25T14:59:55.073952600Z",
     "start_time": "2024-03-25T14:59:55.056929900Z"
    }
   }
  },
  {
   "cell_type": "code",
   "execution_count": 79,
   "outputs": [],
   "source": [
    "# 假设长序列为 long_sequence，索引组成的列表为 indices_list\n",
    "long_sequence = imgsData  # 长序列示例，这里假设长度为100 # 索引组成的列表示例\n",
    "\n",
    "# 定义每个索引前后元素的数量\n",
    "window_size = 5\n",
    "\n",
    "# 提取每个索引前后的元素，组成子序列\n",
    "sub_sequences = [long_sequence[max(0, index - window_size):index + window_size + 1] for index in indices_list]\n",
    "\n",
    "for franm in sub_sequences[1]:\n",
    "    cv2.imshow(\"im\",franm)\n",
    "    cv2.waitKey(-1)\n",
    "\n",
    "cv2.destroyAllWindows()\n"
   ],
   "metadata": {
    "collapsed": false,
    "ExecuteTime": {
     "end_time": "2024-03-25T15:02:38.532148200Z",
     "start_time": "2024-03-25T15:02:34.062363500Z"
    }
   }
  },
  {
   "cell_type": "code",
   "execution_count": 94,
   "outputs": [],
   "source": [
    "\n",
    "for vi,frames in enumerate(sub_sequences):\n",
    "    # 逐帧写入视频\n",
    "    for ii,frame in enumerate(frames):\n",
    "        os.makedirs(f'result/{vi}',exist_ok=True)\n",
    "        output_path = f'result/{vi}/{ii}.jpg'\n",
    "        cv2.imwrite(output_path,frame)\n"
   ],
   "metadata": {
    "collapsed": false,
    "ExecuteTime": {
     "end_time": "2024-03-25T15:15:42.737364800Z",
     "start_time": "2024-03-25T15:15:42.495205200Z"
    }
   }
  },
  {
   "cell_type": "markdown",
   "source": [
    "## GUI: 裁切画面\n",
    "\n",
    "弹出一个窗口供用户可以裁切小鼠活动范围，鼠标拖拽会出现一个绿色的框框，按s保存，按q不保存退出。"
   ],
   "metadata": {
    "collapsed": false
   }
  },
  {
   "cell_type": "code",
   "execution_count": 110,
   "outputs": [],
   "source": [
    "import yaml\n",
    "import cv2\n",
    "import logging\n",
    "\n",
    "# 定义全局变量\n",
    "x_start, y_start, x_end, y_end = 0, 0, 0, 0\n",
    "cropping = False\n",
    "\n",
    "def draw_rectangle(event, x, y, flags, param):\n",
    "    global x_start, y_start, x_end, y_end, cropping\n",
    "\n",
    "    if event == cv2.EVENT_LBUTTONDOWN:\n",
    "        x_start, y_start, x_end, y_end = x, y, x, y\n",
    "        cropping = True\n",
    "\n",
    "    elif event == cv2.EVENT_MOUSEMOVE:\n",
    "        if cropping:\n",
    "            x_end, y_end = x, y\n",
    "\n",
    "    elif event == cv2.EVENT_LBUTTONUP:\n",
    "        x_end, y_end = x, y\n",
    "        cropping = False\n",
    "\n",
    "# 创建GUI窗口\n",
    "cv2.namedWindow('Input Image')\n",
    "cv2.setMouseCallback('Input Image', draw_rectangle)\n",
    "\n",
    "# 读取输入图像\n",
    "cap = cv2.VideoCapture(video_path)\n",
    "ret, image = cap.read()\n",
    "cap.release()\n",
    "# image = imgsData[0]\n",
    "\n",
    "while True:\n",
    "    # 显示输入图像并绘制矩形框\n",
    "    clone = image.copy()\n",
    "    cv2.rectangle(clone, (x_start, y_start), (x_end, y_end), (0, 255, 0), 2)\n",
    "    cv2.imshow('Input Image', clone)\n",
    "\n",
    "    # 按下键盘上的 's' 键保存裁剪的图像\n",
    "    key = cv2.waitKey(1) & 0xFF\n",
    "    if key == ord('s'):\n",
    "        cropped_image = image[y_start:y_end, x_start:x_end]\n",
    "        logging.info(f\"crop region is [{x_start} to {x_end}] of x axis and [{y_start} to {y_end}] of y axis\")\n",
    "        crop_info = {'x_start': x_start, 'y_start': y_start, 'x_end': x_end, 'y_end': y_end}\n",
    "        with open('crop_info.yaml', 'w') as yaml_file:\n",
    "            yaml.dump(crop_info, yaml_file, default_flow_style=False)\n",
    "        logging.info('裁剪信息已保存到 crop_info.yaml')\n",
    "        # cv2.imwrite('cropped_image.jpg', cropped_image)\n",
    "        break\n",
    "\n",
    "    # 按下键盘上的 'q' 键退出程序\n",
    "    elif key == ord('q'):\n",
    "        break\n",
    "\n",
    "# 关闭窗口\n",
    "cv2.destroyAllWindows()\n"
   ],
   "metadata": {
    "collapsed": false,
    "ExecuteTime": {
     "end_time": "2024-03-25T15:29:42.563858900Z",
     "start_time": "2024-03-25T15:29:37.319308200Z"
    }
   }
  },
  {
   "cell_type": "markdown",
   "source": [
    "使用以下代码来读取YAML文件中的裁剪信息："
   ],
   "metadata": {
    "collapsed": false
   }
  },
  {
   "cell_type": "code",
   "execution_count": 28,
   "outputs": [
    {
     "name": "stdout",
     "output_type": "stream",
     "text": [
      "裁剪范围信息：\n",
      "x_start: 428\n",
      "y_start: 31\n",
      "x_end: 1120\n",
      "y_end: 576\n"
     ]
    }
   ],
   "source": [
    "import yaml\n",
    "\n",
    "# 从YAML文件中加载裁剪信息\n",
    "with open('crop_info.yaml', 'r') as yaml_file:\n",
    "    crop_info = yaml.safe_load(yaml_file)\n",
    "\n",
    "# 打印裁剪信息\n",
    "print(\"裁剪范围信息：\")\n",
    "print(\"x_start:\", crop_info['x_start'])\n",
    "print(\"y_start:\", crop_info['y_start'])\n",
    "print(\"x_end:\", crop_info['x_end'])\n",
    "print(\"y_end:\", crop_info['y_end'])\n",
    "# cropped_image = image[y_start:y_end, x_start:x_end]"
   ],
   "metadata": {
    "collapsed": false,
    "ExecuteTime": {
     "end_time": "2024-03-25T14:17:49.677242600Z",
     "start_time": "2024-03-25T14:17:49.664441Z"
    }
   }
  },
  {
   "cell_type": "code",
   "execution_count": 114,
   "outputs": [
    {
     "name": "stdout",
     "output_type": "stream",
     "text": [
      "当前日期和时间的字符串表示形式: 2024-03-25_23:43:36\n"
     ]
    }
   ],
   "source": [
    "\n",
    "# 获取当前日期和时间\n",
    "current_datetime =\n",
    "\n",
    "# 格式化日期和时间为字符串\n",
    "\n",
    "print(\"当前日期和时间的字符串表示形式:\", datetime_string)\n"
   ],
   "metadata": {
    "collapsed": false,
    "ExecuteTime": {
     "end_time": "2024-03-25T15:43:36.621260700Z",
     "start_time": "2024-03-25T15:43:36.597236300Z"
    }
   }
  }
 ],
 "metadata": {
  "kernelspec": {
   "display_name": "Python 3",
   "language": "python",
   "name": "python3"
  },
  "language_info": {
   "codemirror_mode": {
    "name": "ipython",
    "version": 2
   },
   "file_extension": ".py",
   "mimetype": "text/x-python",
   "name": "python",
   "nbconvert_exporter": "python",
   "pygments_lexer": "ipython2",
   "version": "2.7.6"
  }
 },
 "nbformat": 4,
 "nbformat_minor": 0
}
