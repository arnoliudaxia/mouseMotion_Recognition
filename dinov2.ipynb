{
 "cells": [
  {
   "cell_type": "code",
   "execution_count": null,
   "metadata": {
    "collapsed": true
   },
   "outputs": [],
   "source": [
    "from transformers import AutoImageProcessor, AutoModel\n",
    "from PIL import Image\n",
    "import requests\n",
    "\n",
    "url = 'http://images.cocodataset.org/val2017/000000039769.jpg'\n",
    "image = Image.open(requests.get(url, stream=True).raw)\n",
    "\n",
    "processor = AutoImageProcessor.from_pretrained('./model/dinov2-base')\n",
    "model = AutoModel.from_pretrained('./model/dinov2-base')\n",
    "\n",
    "inputs = processor(images=image, return_tensors=\"pt\")\n",
    "outputs = model(**inputs)\n",
    "last_hidden_states = outputs[0]\n",
    "\n",
    "print(outputs)"
   ]
  },
  {
   "cell_type": "code",
   "execution_count": null,
   "outputs": [],
   "source": [
    "hidden_state=last_hidden_states"
   ],
   "metadata": {
    "collapsed": false
   }
  },
  {
   "cell_type": "code",
   "execution_count": null,
   "outputs": [],
   "source": [
    "import torch\n",
    "import torch.nn as nn\n",
    "import torch.optim as optim\n",
    "\n",
    "class LinearClassifier(nn.Module):\n",
    "    def __init__(self, input_size, output_size):\n",
    "        super(LinearClassifier, self).__init__()\n",
    "        self.fc = nn.Linear(input_size, output_size)\n",
    "\n",
    "    def forward(self, x):\n",
    "        x = self.fc(x)\n",
    "        return nn.functional.softmax(x, dim=1)\n",
    "# Define your training data (hidden state and labels)\n",
    "# Assuming hidden_state is of shape [batch_size, hidden_size] and labels is of shape [batch_size, num_classes]\n",
    "\n",
    "# Example:\n",
    "# hidden_state = torch.randn(batch_size, hidden_size)\n",
    "# labels = torch.randint(0, num_classes, (batch_size,))\n",
    "\n",
    "# Define model, loss function, and optimizer\n",
    "input_size = hidden_state.shape[1]  # assuming hidden state is your input\n",
    "output_size = 2  # assuming you have this number of classes\n",
    "model = LinearClassifier(input_size, output_size)\n",
    "criterion = nn.CrossEntropyLoss()\n",
    "optimizer = optim.Adam(model.parameters(), lr=0.001)\n",
    "\n",
    "# Training loop\n",
    "num_epochs = 10  # Set your desired number of epochs\n",
    "for epoch in range(num_epochs):\n",
    "    model.train()  # Set the model to train mode\n",
    "    optimizer.zero_grad()  # Clear gradients\n",
    "\n",
    "    # Forward pass\n",
    "    outputs = model(hidden_state)  # Assuming hidden_state is your input\n",
    "    loss = criterion(outputs, labels)\n",
    "\n",
    "    # Backward pass\n",
    "    loss.backward()  # Calculate gradients\n",
    "    optimizer.step()  # Update weights\n",
    "\n",
    "    print(f'Epoch [{epoch + 1}/{num_epochs}], Loss: {loss.item():.4f}')\n",
    "\n",
    "# Optionally, you may want to save the trained model\n",
    "# torch.save(model.state_dict(), 'linear_classifier.pth')\n"
   ],
   "metadata": {
    "collapsed": false
   }
  }
 ],
 "metadata": {
  "kernelspec": {
   "display_name": "Python 3",
   "language": "python",
   "name": "python3"
  },
  "language_info": {
   "codemirror_mode": {
    "name": "ipython",
    "version": 2
   },
   "file_extension": ".py",
   "mimetype": "text/x-python",
   "name": "python",
   "nbconvert_exporter": "python",
   "pygments_lexer": "ipython2",
   "version": "2.7.6"
  }
 },
 "nbformat": 4,
 "nbformat_minor": 0
}
